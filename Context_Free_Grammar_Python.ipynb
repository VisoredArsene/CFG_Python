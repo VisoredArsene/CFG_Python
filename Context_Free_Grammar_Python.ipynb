{
 "cells": [
  {
   "cell_type": "code",
   "execution_count": 6,
   "id": "a5d8d2b3-a14d-4303-81e7-052d2050fafe",
   "metadata": {},
   "outputs": [
    {
     "name": "stdout",
     "output_type": "stream",
     "text": [
      "8,8\n"
     ]
    }
   ],
   "source": [
    "import random\n",
    "\n",
    "rules = {\n",
    "    \"<list>\": [\"<list> , <number>\", \"<number>\"],\n",
    "    \"<number>\": [\"0\", \"1\", \"2\", \"3\", \"4\", \"5\", \"6\", \"7\", \"8\", \"9\"]\n",
    "}\n",
    "\n",
    "def generate_string(grammar, symbol):\n",
    "    if symbol not in grammar:\n",
    "        return symbol\n",
    "    else:\n",
    "        expansion = random.choice(grammar[symbol])\n",
    "        symbols = expansion.split()\n",
    "        return \"\".join([generate_string(grammar, s) for s in symbols])\n",
    "\n",
    "numbers = generate_string(rules, \"<list>\")\n",
    "print(numbers)\n"
   ]
  },
  {
   "cell_type": "code",
   "execution_count": null,
   "id": "06f9c139-297e-41d3-ba0d-c9494ad8cc13",
   "metadata": {},
   "outputs": [],
   "source": []
  }
 ],
 "metadata": {
  "kernelspec": {
   "display_name": "Python 3 (ipykernel)",
   "language": "python",
   "name": "python3"
  },
  "language_info": {
   "codemirror_mode": {
    "name": "ipython",
    "version": 3
   },
   "file_extension": ".py",
   "mimetype": "text/x-python",
   "name": "python",
   "nbconvert_exporter": "python",
   "pygments_lexer": "ipython3",
   "version": "3.10.9"
  }
 },
 "nbformat": 4,
 "nbformat_minor": 5
}
